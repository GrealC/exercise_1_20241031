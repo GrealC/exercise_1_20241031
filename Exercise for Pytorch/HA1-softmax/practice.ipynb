{
 "cells": [
  {
   "cell_type": "code",
   "execution_count": 3,
   "metadata": {},
   "outputs": [],
   "source": [
    "# 导入库\n",
    "import numpy as np"
   ]
  },
  {
   "cell_type": "code",
   "execution_count": 4,
   "metadata": {},
   "outputs": [],
   "source": [
    "# 从文本读取数据，并划分\n",
    "def get_data():\n",
    "    train_data = np.genfromtxt('iris_training.csv', dtype='float', delimiter=',', skip_header=1)\n",
    "    test_data = np.genfromtxt('iris_test.csv', dtype = 'float', delimiter=',', skip_header=1)\n",
    "\n",
    "    # 读取的时候都是以float的形式读取的，但是最后一列是label，所以需要转换成int\n",
    "    train_x = train_data[:, :-1]\n",
    "    train_y = train_data[:, -1].astype(np.int64)\n",
    "    \n",
    "    test_x = test_data[:, :-1]\n",
    "    test_y = test_data[:, -1].astype(np.int64)\n",
    "\n",
    "    return train_x, train_y, test_x, test_y\n"
   ]
  },
  {
   "cell_type": "code",
   "execution_count": 5,
   "metadata": {},
   "outputs": [],
   "source": [
    "# 获取划分的数据\n",
    "train_x, train_y, test_x, test_y = get_data()"
   ]
  },
  {
   "cell_type": "code",
   "execution_count": 6,
   "metadata": {},
   "outputs": [],
   "source": [
    "# 计算损失函数与梯度\n",
    "def compute_softmax_loss(W, X, y, reg):\n",
    "    \n",
    "    # 计算softmax损失函数\n",
    "    num_train = X.shape[0]\n",
    "    scores = X.dot(W)\n",
    "    scores -= np.max(scores, axis=1, keepdims=True)\n",
    "    exp_scores = np.exp(scores)\n",
    "    sum_exp_scores = np.sum(exp_scores, axis=1, keepdims=True)\n",
    "    probs = exp_scores / sum_exp_scores\n",
    "\n",
    "    # 计算损失函数\n",
    "    correct_logprobs = -np.log(probs[np.arange(num_train), y])\n",
    "    data_loss = np.sum(correct_logprobs) / num_train\n",
    "\n",
    "    loss = data_loss + 0.5 * reg * np.sum(W * W)\n",
    "\n",
    "    # 计算梯度\n",
    "    dscores = probs.copy()\n",
    "    dscores[np.arange(num_train), y] -= 1\n",
    "    dscores /= num_train\n",
    "    dW = X.T.dot(dscores)\n",
    "    dW += reg * W\n",
    "\n",
    "    return loss, dW"
   ]
  },
  {
   "cell_type": "code",
   "execution_count": 7,
   "metadata": {},
   "outputs": [],
   "source": [
    "# 计算准确率\n",
    "def acc(y, y_pred):\n",
    "    return np.mean(y==y_pred)"
   ]
  },
  {
   "cell_type": "code",
   "execution_count": 8,
   "metadata": {},
   "outputs": [],
   "source": [
    "# 预测函数\n",
    "def predict(W, X):\n",
    "    score = np.dot(X, W)\n",
    "    y_pred = np.argmax(score, axis=1)\n",
    "    \n",
    "    return y_pred"
   ]
  },
  {
   "cell_type": "code",
   "execution_count": 11,
   "metadata": {},
   "outputs": [],
   "source": [
    "# 训练预测模型\n",
    "def train(X,y, X_test, y_test, learning_rate=1e-3, reg=1e-5, epochs=100, batch_size=200):\n",
    "    num_train, dim = X.shape\n",
    "    num_classes = np.max(y) + 1\n",
    "\n",
    "    iterations_per_epoch = int(max(num_train / batch_size, 1))\n",
    "\n",
    "    # 初始化权重\n",
    "    W = 0.001 * np.random.randn(dim, num_classes)\n",
    "\n",
    "    # 训练模型\n",
    "    for epoch in range(epochs):\n",
    "        # 随机打乱训练数据\n",
    "        idx = np.random.permutation(num_train)\n",
    "        \n",
    "        for i in range(iterations_per_epoch):\n",
    "            # 取出一个小批量的数据\n",
    "            batch_idx = idx[i*batch_size:(i+1)*batch_size]\n",
    "            X_batch = X[batch_idx]\n",
    "            y_batch = y[batch_idx]\n",
    "\n",
    "            # 计算损失和梯度\n",
    "            loss, grad = compute_softmax_loss(W, X_batch, y_batch, reg)\n",
    "\n",
    "            # 更新权重\n",
    "            W += -learning_rate * grad\n",
    "\n",
    "        # 计算训练集和测试集的准确率\n",
    "        if epoch % 10 == 0:\n",
    "            train_acc = acc(y_batch, predict(W, X_batch))\n",
    "            test_acc = acc(y_test, predict(W, X_test))\n",
    "\n",
    "            print('Epoch %d: train_acc = %f, test_acc = %f' % (epoch, train_acc, test_acc))\n",
    "\n",
    "\n",
    "    return W"
   ]
  },
  {
   "cell_type": "code",
   "execution_count": 13,
   "metadata": {},
   "outputs": [
    {
     "name": "stdout",
     "output_type": "stream",
     "text": [
      "Epoch 0: train_acc = 0.200000, test_acc = 0.300000\n",
      "Epoch 10: train_acc = 0.950000, test_acc = 0.966667\n",
      "Epoch 20: train_acc = 0.750000, test_acc = 0.700000\n",
      "Epoch 30: train_acc = 0.800000, test_acc = 0.833333\n",
      "Epoch 40: train_acc = 0.900000, test_acc = 0.966667\n",
      "Epoch 50: train_acc = 1.000000, test_acc = 0.966667\n",
      "Epoch 60: train_acc = 0.950000, test_acc = 0.933333\n",
      "Epoch 70: train_acc = 1.000000, test_acc = 1.000000\n",
      "Epoch 80: train_acc = 0.850000, test_acc = 0.933333\n",
      "Epoch 90: train_acc = 0.950000, test_acc = 0.933333\n",
      "Epoch 100: train_acc = 1.000000, test_acc = 0.933333\n",
      "Epoch 110: train_acc = 0.850000, test_acc = 0.800000\n",
      "Epoch 120: train_acc = 1.000000, test_acc = 0.933333\n",
      "Epoch 130: train_acc = 0.800000, test_acc = 0.933333\n",
      "Epoch 140: train_acc = 1.000000, test_acc = 0.966667\n",
      "Epoch 150: train_acc = 0.900000, test_acc = 0.966667\n",
      "Epoch 160: train_acc = 1.000000, test_acc = 0.933333\n",
      "Epoch 170: train_acc = 0.950000, test_acc = 0.933333\n",
      "Epoch 180: train_acc = 0.950000, test_acc = 0.933333\n",
      "Epoch 190: train_acc = 1.000000, test_acc = 0.933333\n",
      "New Samples, Class Predictions:    [1 2]\n",
      "\n"
     ]
    }
   ],
   "source": [
    "# 测试\n",
    "max_epochs = 200\n",
    "batch_size = 20\n",
    "learning_rate = 0.1\n",
    "reg = 0.01\n",
    "\n",
    "# get training and testing data\n",
    "train_x, train_y, test_x, test_y = get_data()\n",
    "W = train(train_x, train_y, test_x, test_y, learning_rate, reg, max_epochs, batch_size)\n",
    "\n",
    "# Classify two new flower samples.\n",
    "def new_samples():\n",
    "    return np.array(\n",
    "      [[6.4, 3.2, 4.5, 1.5],\n",
    "       [5.8, 3.1, 5.0, 1.7]], dtype=np.float32)\n",
    "new_x = new_samples()\n",
    "predictions = predict(W, new_x)\n",
    "\n",
    "print(\"New Samples, Class Predictions:    {}\\n\".format(predictions))\n"
   ]
  },
  {
   "cell_type": "code",
   "execution_count": null,
   "metadata": {},
   "outputs": [],
   "source": []
  }
 ],
 "metadata": {
  "kernelspec": {
   "display_name": "dpy38",
   "language": "python",
   "name": "python3"
  },
  "language_info": {
   "codemirror_mode": {
    "name": "ipython",
    "version": 3
   },
   "file_extension": ".py",
   "mimetype": "text/x-python",
   "name": "python",
   "nbconvert_exporter": "python",
   "pygments_lexer": "ipython3",
   "version": "3.8.19"
  }
 },
 "nbformat": 4,
 "nbformat_minor": 2
}
